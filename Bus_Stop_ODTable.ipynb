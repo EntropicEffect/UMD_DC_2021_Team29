{
 "cells": [
  {
   "cell_type": "code",
   "execution_count": 2,
   "metadata": {},
   "outputs": [],
   "source": [
    "import pandas as pd\n",
    "import numpy as np\n",
    "import csv\n",
    "from tqdm.notebook import tqdm\n",
    "from multiprocessing import Process"
   ]
  },
  {
   "cell_type": "code",
   "execution_count": 3,
   "metadata": {},
   "outputs": [],
   "source": [
    "def distance_from_lonlat(p1,p2):\n",
    "    # https://github.com/openlayers/openlayers/blob/release-2.12/lib/OpenLayers/Util.js#L750\n",
    "    #VincentyConstants\n",
    "    a = 6378137\n",
    "    b = 6356752.3142\n",
    "    f = 1/298.257223563\n",
    "    \n",
    "    p1_lon = (np.pi/180) * p1[0]\n",
    "    p1_lat = (np.pi/180) * p1[1]\n",
    "    p2_lon = (np.pi/180) * p2[0]\n",
    "    p2_lat = (np.pi/180) * p2[1]\n",
    "    \n",
    "    L = p2_lon - p1_lon\n",
    "    U1 = np.arctan((1-f) * np.tan(p1_lat))\n",
    "    U2 = np.arctan((1-f) * np.tan(p2_lat))\n",
    "    cosU1 = np.cos(U1)\n",
    "    cosU2 = np.cos(U2)\n",
    "    sinU1 = np.sin(U1)\n",
    "    sinU2 = np.sin(U2)\n",
    "    \n",
    "    \n",
    "    lambda_ = L\n",
    "    lambdaP = 2*np.pi\n",
    "    iterLimit = 30\n",
    "    \n",
    "    while(np.abs(lambda_ - lambdaP) > 1e-13):\n",
    "        sinSigma = np.sqrt((cosU2*np.sin(lambda_))**2 + (cosU1*sinU2- sinU1*cosU2*np.cos(lambda_))**2)\n",
    "        if (sinSigma == 0):\n",
    "            return 0\n",
    "        cosSigma = sinU1*sinU2 + cosU1*cosU2*np.cos(lambda_)\n",
    "        sigma = np.arctan2(sinSigma, cosSigma)\n",
    "        alpha = np.arcsin(cosU1*cosU2*np.sin(lambda_)/sinSigma)\n",
    "        cosalpha = np.cos(alpha)\n",
    "        sinalpha = np.sin(alpha)\n",
    "        CSM   = cosSigma - 2*sinU1*sinU2/(cosalpha**2)\n",
    "        C     = (f/16)*cosalpha**2*(4+f*(4-3*(cosalpha**2)))\n",
    "        lamdaP = lambda_\n",
    "        lambda_ = L + (1-C)*f*sinalpha*(sigma + C*sinSigma*(CSM + C*cosSigma*(-1 +2*CSM**2)))\n",
    "        iterLimit -= 1\n",
    "        if iterLimit <= 0:\n",
    "                        break\n",
    "    uSq = cosalpha*(a**2 - b **2)/(b**2)\n",
    "    A = 1 + uSq/16384*(4096+uSq*(-768+uSq*(320-175*uSq)))\n",
    "    B = uSq/1024 * (256+uSq*(-128+uSq*(74-47*uSq)))\n",
    "    deltaSigma = B*sinSigma*(CSM+B/4*(cosSigma*(-1+2*CSM**2)-\n",
    "    B/6*CSM*(-3+4*sinSigma*sinSigma)*(-3+4*CSM**2)))\n",
    "    s = b*A*(sigma-deltaSigma)\n",
    "    return s"
   ]
  },
  {
   "cell_type": "code",
   "execution_count": 4,
   "metadata": {},
   "outputs": [],
   "source": [
    "bus_lat_list = []\n",
    "bus_lon_list = []\n",
    "with open('bus_stop_coordinates.csv') as csvfile:\n",
    "    reader = csv.reader(csvfile, delimiter=',')\n",
    "    for row in reader:\n",
    "        bus_lat_list.append(float(row[0]))\n",
    "        bus_lon_list.append(float(row[1]))\n",
    "\n",
    "zipped_bus = list(zip(bus_lon_list,bus_lat_list))\n",
    "\n",
    "\n",
    "df = pd.read_csv(\"Data_Lv3_UMDOTS_Escooters.csv\")\n",
    "\n",
    "\n",
    "lon_list_start = list(map(float,df['START LONG'][:]))\n",
    "lat_list_start = list(map(float,df['START LAT'][:])) \n",
    "zipped_start = list(zip(lon_list_start,lat_list_start))\n",
    "\n",
    "lon_list_end = list(map(float,df['END LONG'][:]))\n",
    "lat_list_end = list(map(float,df['END LAT'][:]))\n",
    "zipped_end = list(zip(lon_list_end,lat_list_end))"
   ]
  },
  {
   "cell_type": "code",
   "execution_count": 5,
   "metadata": {},
   "outputs": [
    {
     "name": "stderr",
     "output_type": "stream",
     "text": [
      "Process Process-4:\n",
      "Traceback (most recent call last):\n",
      "  File \"/usr/lib/python3.9/multiprocessing/process.py\", line 315, in _bootstrap\n",
      "    self.run()\n",
      "  File \"/usr/lib/python3.9/multiprocessing/process.py\", line 108, in run\n",
      "    self._target(*self._args, **self._kwargs)\n",
      "  File \"<ipython-input-5-c1d08c2af0d0>\", line 43, in thread_4\n",
      "    if (distance_from_lonlat(zipped_bus[i],start) < radius):\n",
      "IndexError: list index out of range\n"
     ]
    }
   ],
   "source": [
    "radius = 50\n",
    "\n",
    "thread_1_list = []\n",
    "thread_2_list = []\n",
    "thread_3_list = []\n",
    "thread_4_list = []\n",
    "\n",
    "def thread_1():\n",
    "    for i in tqdm(range(6)):\n",
    "        for j in tqdm(range(len(zipped_bus)),leave=False):\n",
    "            for k in range(len(zipped_start)):\n",
    "                start = zipped_start[k]\n",
    "                if (distance_from_lonlat(zipped_bus[i],start) < radius):\n",
    "                    end   = zipped_end[k] \n",
    "                    if((distance_from_lonlat(zipped_bus[j],end) < radius)):\n",
    "                        thread_1_list.append([i,j,df['MINUTES'][k]])\n",
    "    \n",
    "def thread_2():\n",
    "    for i in tqdm(range(6,13)):\n",
    "        for j in tqdm(range(len(zipped_bus)),leave=False):\n",
    "            for k in range(len(zipped_start)):\n",
    "                start = zipped_start[k]\n",
    "                if (distance_from_lonlat(zipped_bus[i],start) < radius):\n",
    "                    end   = zipped_end[k] \n",
    "                    if((distance_from_lonlat(zipped_bus[j],end) < radius)):\n",
    "                        thread_2_list.append([i,j,df['MINUTES'][k]]) \n",
    "                    \n",
    "def thread_3():\n",
    "    for i in tqdm(range(13,18)):\n",
    "        for j in tqdm(range(len(zipped_bus)),leave=False):\n",
    "            for k in range(len(zipped_start)):\n",
    "                start = zipped_start[k]\n",
    "                if (distance_from_lonlat(zipped_bus[i],start) < radius):\n",
    "                    end   = zipped_end[k] \n",
    "                    if((distance_from_lonlat(zipped_bus[j],end) < radius)):\n",
    "                        thread_3_list.append([i,j,df['MINUTES'][k]])\n",
    "\n",
    "def thread_4():\n",
    "    for i in tqdm(range(18,22)):\n",
    "        for j in tqdm(range(len(zipped_bus)),leave=False):\n",
    "            for k in range(len(zipped_start)):\n",
    "                start = zipped_start[k]\n",
    "                if (distance_from_lonlat(zipped_bus[i],start) < radius):\n",
    "                    end   = zipped_end[k] \n",
    "                    if((distance_from_lonlat(zipped_bus[j],end) < radius)):\n",
    "                        thread_4_list.append([i,j,df['MINUTES'][k]]) \n",
    "    \n",
    "p1 = Process(target=thread_1)\n",
    "p2 = Process(target=thread_2)\n",
    "p3 = Process(target=thread_3)\n",
    "p4 = Process(target=thread_4)\n",
    "\n"
   ]
  },
  {
   "cell_type": "code",
   "execution_count": 22,
   "metadata": {},
   "outputs": [
    {
     "data": {
      "text/plain": [
       "0         1\n",
       "1        30\n",
       "2         8\n",
       "3        47\n",
       "4         4\n",
       "         ..\n",
       "40320     5\n",
       "40321     5\n",
       "40322     5\n",
       "40323    13\n",
       "40324    35\n",
       "Name: MINUTES, Length: 40325, dtype: int64"
      ]
     },
     "execution_count": 22,
     "metadata": {},
     "output_type": "execute_result"
    }
   ],
   "source": [
    "with open('rides_between_bus_stops.csv','w') as csvfile:\n",
    "    writer = csv.writer(csvfile, delimiter=',',quotechar='|', quoting=csv.QUOTE_MINIMAL)\n",
    "    writer.writerow(['Start_idx', 'End_idx', 'Duration'])\n",
    "    for row in thread_1_list:\n",
    "        writer.writerow(row)\n",
    "    for row in thread_2_list:\n",
    "        writer.writerow(row)\n",
    "    for row in thread_3_list:\n",
    "        writer.writerow(row)\n",
    "    for row in thread_4_list:\n",
    "        writer.writerow(row)"
   ]
  },
  {
   "cell_type": "code",
   "execution_count": 7,
   "metadata": {},
   "outputs": [
    {
     "data": {
      "text/plain": [
       "[]"
      ]
     },
     "execution_count": 7,
     "metadata": {},
     "output_type": "execute_result"
    }
   ],
   "source": [
    "thread_3_list"
   ]
  },
  {
   "cell_type": "code",
   "execution_count": null,
   "metadata": {},
   "outputs": [],
   "source": []
  }
 ],
 "metadata": {
  "kernelspec": {
   "display_name": "Python 3",
   "language": "python",
   "name": "python3"
  },
  "language_info": {
   "codemirror_mode": {
    "name": "ipython",
    "version": 3
   },
   "file_extension": ".py",
   "mimetype": "text/x-python",
   "name": "python",
   "nbconvert_exporter": "python",
   "pygments_lexer": "ipython3",
   "version": "3.9.2"
  }
 },
 "nbformat": 4,
 "nbformat_minor": 4
}
