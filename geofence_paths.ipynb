{
 "metadata": {
  "language_info": {
   "codemirror_mode": {
    "name": "ipython",
    "version": 3
   },
   "file_extension": ".py",
   "mimetype": "text/x-python",
   "name": "python",
   "nbconvert_exporter": "python",
   "pygments_lexer": "ipython3",
   "version": "3.9.1-final"
  },
  "orig_nbformat": 2,
  "kernelspec": {
   "name": "python3",
   "display_name": "Python 3.9.1 64-bit",
   "metadata": {
    "interpreter": {
     "hash": "63fd5069d213b44bf678585dea6b12cceca9941eaf7f819626cde1f2670de90d"
    }
   }
  }
 },
 "nbformat": 4,
 "nbformat_minor": 2,
 "cells": [
  {
   "cell_type": "code",
   "execution_count": 57,
   "metadata": {},
   "outputs": [],
   "source": [
    "import pandas as pd\n",
    "\n",
    "df = pd.read_csv('scooters.csv')\n",
    "\n",
    "paths_col = df['PATH']"
   ]
  },
  {
   "cell_type": "code",
   "execution_count": 58,
   "metadata": {},
   "outputs": [],
   "source": [
    "import json\n",
    "from point import Point\n",
    "\n",
    "def parse_path(path_string):\n",
    "    path = []\n",
    "    coords = json.loads(path_string)['coordinates']\n",
    "    for coord in coords:\n",
    "        path.append(Point(coord[0], coord[1]))\n",
    "\n",
    "    return path"
   ]
  },
  {
   "cell_type": "code",
   "execution_count": 60,
   "metadata": {},
   "outputs": [
    {
     "output_type": "execute_result",
     "data": {
      "text/plain": [
       "[(-76.934163, 38.9906555), (-76.93428483333334, 38.990738666666665)]"
      ]
     },
     "metadata": {},
     "execution_count": 60
    }
   ],
   "source": [
    "paths = []\n",
    "for path_string in paths_col:\n",
    "    paths.append(parse_path(path_string))\n",
    "\n",
    "paths"
   ]
  },
  {
   "cell_type": "code",
   "execution_count": 63,
   "metadata": {},
   "outputs": [],
   "source": [
    "import pickle\n",
    "\n",
    "def get_geofence():\n",
    "    with open('geofence.pickle', 'rb') as handle:\n",
    "        geofence = pickle.load(handle)\n",
    "    return geofence\n",
    "\n",
    "def path_violates_geofence(path):\n",
    "    geofence = get_geofence()\n",
    "    for point in path:\n",
    "        if geofence.point_inside(point) == 0:\n",
    "            return False\n",
    "    return True"
   ]
  },
  {
   "cell_type": "code",
   "execution_count": 68,
   "metadata": {
    "tags": []
   },
   "outputs": [
    {
     "output_type": "execute_result",
     "data": {
      "text/plain": [
       "'4.08% of trips violated the geofence boundary'"
      ]
     },
     "metadata": {},
     "execution_count": 68
    }
   ],
   "source": [
    "count = 0\n",
    "for path in paths:\n",
    "    if path_violates_geofence(path):\n",
    "        count += 1\n",
    "\n",
    "percentage = count/len(paths) * 100 # percentage of paths that violated geofence\n",
    "f'{percentage:.2f}% of trips violated the geofence boundary'"
   ]
  }
 ]
}