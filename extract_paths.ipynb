{
 "cells": [
  {
   "cell_type": "code",
   "execution_count": 4,
   "metadata": {},
   "outputs": [],
   "source": [
    "import re\n",
    "\n",
    "def discard_outliers_from_path(x,center_lon = -76.9388, center_lat = 38.9896, deg_extent = 0.03):\n",
    "    results = []\n",
    "    for coords in x:\n",
    "        if( (np.abs(coords[0] - center_lon) < deg_extent) and (np.abs(coords[1] - center_lat) < deg_extent)):\n",
    "            results.append(coords)\n",
    "    return results\n",
    "\n",
    "def extract_path_points_from_df(df):\n",
    "        path_list = df['PATH'][:]\n",
    "        all_points = []\n",
    "        points = []\n",
    "        for str in path_list:\n",
    "            points.extend(re.findall(r\"[+-]? *(?:\\d+(?:\\.\\d*)?|\\.\\d+)(?:[eE][+-]?\\d+)?\", str))\n",
    "        path = list(map(float,points))\n",
    "        zipped = list(zip(points[::2],points[1::2]))\n",
    "        all_points.extend(discard_outliers_from_path(zipped,center_lon, center_lat, deg_extent))\n",
    "        return np.array(all_points)"
   ]
  }
 ],
 "metadata": {
  "kernelspec": {
   "display_name": "Python 3",
   "language": "python",
   "name": "python3"
  },
  "language_info": {
   "codemirror_mode": {
    "name": "ipython",
    "version": 3
   },
   "file_extension": ".py",
   "mimetype": "text/x-python",
   "name": "python",
   "nbconvert_exporter": "python",
   "pygments_lexer": "ipython3",
   "version": "3.9.2"
  }
 },
 "nbformat": 4,
 "nbformat_minor": 4
}
