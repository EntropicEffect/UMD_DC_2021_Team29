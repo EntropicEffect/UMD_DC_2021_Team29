{
 "cells": [
  {
   "cell_type": "code",
   "execution_count": null,
   "metadata": {},
   "outputs": [],
   "source": [
    "import csv\n",
    "from point import Point\n",
    "from polygon import Polygon\n",
    "import pickle\n",
    "\n",
    "for i in range(1,7):\n",
    "    points = []\n",
    "    with open('cz_' + str(i) +'.csv', newline='') as csvfile:\n",
    "         reader = csv.reader(csvfile, delimiter=',', quotechar='|')\n",
    "         for row in reader:\n",
    "            points.append(Point(float(row[0]),float(row[1])))\n",
    "    poly = Polygon(points)\n",
    "    with open('cz_' + str(i)+'_boundary.pickle', 'wb') as handle:\n",
    "        pickle.dump(poly, handle, protocol=pickle.HIGHEST_PROTOCOL)"
   ]
  },
  {
   "cell_type": "code",
   "execution_count": 9,
   "metadata": {},
   "outputs": [
    {
     "data": {
      "text/plain": [
       "(39.01527, -76.9207)\n",
       "(39.01357, -76.9211)\n",
       "(39.01329, -76.91992)\n",
       "(39.01358, -76.91922)\n",
       "(39.0153, -76.9199)"
      ]
     },
     "execution_count": 9,
     "metadata": {},
     "output_type": "execute_result"
    }
   ],
   "source": [
    "poly"
   ]
  },
  {
   "cell_type": "code",
   "execution_count": null,
   "metadata": {},
   "outputs": [],
   "source": []
  }
 ],
 "metadata": {
  "kernelspec": {
   "display_name": "Python 3",
   "language": "python",
   "name": "python3"
  },
  "language_info": {
   "codemirror_mode": {
    "name": "ipython",
    "version": 3
   },
   "file_extension": ".py",
   "mimetype": "text/x-python",
   "name": "python",
   "nbconvert_exporter": "python",
   "pygments_lexer": "ipython3",
   "version": "3.9.2"
  }
 },
 "nbformat": 4,
 "nbformat_minor": 4
}
