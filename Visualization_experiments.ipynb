{
 "cells": [
  {
   "cell_type": "code",
   "execution_count": 2,
   "metadata": {},
   "outputs": [],
   "source": [
    "import math\n",
    "import arcgis\n",
    "import matplotlib.pyplot as plt\n",
    "from arcgis.gis import GIS\n",
    "import pickle\n",
    "from arcgis.geometry import Polygon\n",
    "from arcgis.mapping import create_symbol"
   ]
  },
  {
   "cell_type": "code",
   "execution_count": 3,
   "metadata": {},
   "outputs": [],
   "source": [
    "def latlon2wkt(lat,long) :\n",
    "    ## Converts lat/lon into x,y for plotting\n",
    "    ## Courtesy of: https://github.com/jyannielli\n",
    "    half_circ = 20037508.34\n",
    "    x = long * half_circ /180\n",
    "    y = math.log(math.tan((90 + lat) * math.pi / 360)) / (math.pi / 180)\n",
    "    y = y * half_circ / 180\n",
    "    return [x,y]"
   ]
  },
  {
   "cell_type": "code",
   "execution_count": 4,
   "metadata": {},
   "outputs": [],
   "source": [
    "with open('cpk_boundary.pickle', 'rb') as handle:\n",
    "    umd_bdry = pickle.load(handle)"
   ]
  },
  {
   "cell_type": "code",
   "execution_count": 10,
   "metadata": {},
   "outputs": [
    {
     "name": "stdout",
     "output_type": "stream",
     "text": [
      "<class 'NoneType'>\n"
     ]
    },
    {
     "data": {
      "application/vnd.jupyter.widget-view+json": {
       "model_id": "f848c7129d8348ccbb7f8c360a92aa48",
       "version_major": 2,
       "version_minor": 0
      },
      "text/plain": [
       "MapView(layout=Layout(height='400px', width='100%'))"
      ]
     },
     "metadata": {},
     "output_type": "display_data"
    },
    {
     "data": {
      "text/html": [
       "<div class=\"map-static-img-preview-6a4e5bc1-9343-4d8c-9854-840215c3ad0c\"><img src=\"\"></img></div>"
      ],
      "text/plain": [
       "<IPython.core.display.HTML object>"
      ]
     },
     "metadata": {},
     "output_type": "display_data"
    },
    {
     "data": {
      "text/html": [
       "<div class=\"map-html-embed-preview-6a4e5bc1-9343-4d8c-9854-840215c3ad0c\"></div>"
      ],
      "text/plain": [
       "<IPython.core.display.HTML object>"
      ]
     },
     "metadata": {},
     "output_type": "display_data"
    }
   ],
   "source": [
    "gis = GIS()\n",
    "m1 = gis.map(\"College Park\",zoomlevel=14)\n",
    "bdry = []\n",
    "for point in umd_bdry.points:\n",
    "    bdry.append(latlon2wkt(point.lat,point.long))\n",
    "bdry = [bdry]\n",
    "line = {\"rings\" : bdry, \"spatialReference\" : {\"latestWkid\" : 3857}}\n",
    "bdry_line = Polygon(line)\n",
    "symbol = create_symbol(geometry_type='polygon')\n",
    "m1.draw(bdry_line)\n",
    "m1"
   ]
  },
  {
   "cell_type": "code",
   "execution_count": null,
   "metadata": {},
   "outputs": [],
   "source": []
  }
 ],
 "metadata": {
  "kernelspec": {
   "display_name": "Python 3",
   "language": "python",
   "name": "python3"
  },
  "language_info": {
   "codemirror_mode": {
    "name": "ipython",
    "version": 3
   },
   "file_extension": ".py",
   "mimetype": "text/x-python",
   "name": "python",
   "nbconvert_exporter": "python",
   "pygments_lexer": "ipython3",
   "version": "3.8.5"
  }
 },
 "nbformat": 4,
 "nbformat_minor": 4
}
