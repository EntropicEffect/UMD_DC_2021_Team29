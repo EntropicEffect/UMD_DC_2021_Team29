{
 "cells": [
  {
   "cell_type": "code",
   "execution_count": 1,
   "metadata": {},
   "outputs": [],
   "source": [
    "import math\n",
    "import arcgis\n",
    "import matplotlib.pyplot as plt\n",
    "from arcgis.gis import GIS\n",
    "import pickle\n",
    "from arcgis.geometry import Polygon\n",
    "from arcgis.mapping import create_symbol\n",
    "from point import Point\n",
    "from arcgis.raster.functions.gbl import kernel_density"
   ]
  },
  {
   "cell_type": "code",
   "execution_count": 2,
   "metadata": {},
   "outputs": [],
   "source": [
    "def latlon2wkt(lat,long) :\n",
    "    ## Converts lat/lon into x,y for plotting\n",
    "    ## Courtesy of: https://github.com/jyannielli\n",
    "    half_circ = 20037508.34\n",
    "    x = long * half_circ /180\n",
    "    y = math.log(math.tan((90 + lat) * math.pi / 360)) / (math.pi / 180)\n",
    "    y = y * half_circ / 180\n",
    "    return [x,y]"
   ]
  },
  {
   "cell_type": "code",
   "execution_count": 3,
   "metadata": {},
   "outputs": [],
   "source": [
    "with open('cpk_boundary.pickle', 'rb') as handle:\n",
    "    umd_bdry = pickle.load(handle)"
   ]
  },
  {
   "cell_type": "code",
   "execution_count": 4,
   "metadata": {
    "scrolled": true
   },
   "outputs": [
    {
     "data": {
      "application/vnd.jupyter.widget-view+json": {
       "model_id": "4c793a4d87d941ba97f1991610bcbb01",
       "version_major": 2,
       "version_minor": 0
      },
      "text/plain": [
       "MapView(layout=Layout(height='400px', width='100%'))"
      ]
     },
     "metadata": {},
     "output_type": "display_data"
    },
    {
     "data": {
      "text/html": [
       "<div class=\"map-static-img-preview-9c1fe2fd-2a27-48c3-8c65-4b74c393d7b5\"><img src=\"\"></img></div>"
      ],
      "text/plain": [
       "<IPython.core.display.HTML object>"
      ]
     },
     "metadata": {},
     "output_type": "display_data"
    },
    {
     "data": {
      "text/html": [
       "<div class=\"map-html-embed-preview-9c1fe2fd-2a27-48c3-8c65-4b74c393d7b5\"></div>"
      ],
      "text/plain": [
       "<IPython.core.display.HTML object>"
      ]
     },
     "metadata": {},
     "output_type": "display_data"
    }
   ],
   "source": [
    "gis = GIS()\n",
    "m1 = gis.map(\"College Park\",zoomlevel=13)\n",
    "bdry = []\n",
    "for point in umd_bdry.points:\n",
    "    bdry.append(latlon2wkt(point.lat,point.long))\n",
    "bdry = [bdry]\n",
    "line = {\"rings\" : bdry, \"spatialReference\" : {\"latestWkid\" : 3857}}\n",
    "bdry_line = Polygon(line)\n",
    "symbol = create_symbol(geometry_type='polygon')\n",
    "m1.draw(bdry_line)\n",
    "m1"
   ]
  },
  {
   "cell_type": "code",
   "execution_count": 9,
   "metadata": {},
   "outputs": [
    {
     "data": {
      "text/plain": [
       "1"
      ]
     },
     "execution_count": 9,
     "metadata": {},
     "output_type": "execute_result"
    }
   ],
   "source": []
  },
  {
   "cell_type": "code",
   "execution_count": null,
   "metadata": {},
   "outputs": [],
   "source": []
  }
 ],
 "metadata": {
  "kernelspec": {
   "display_name": "Python 3",
   "language": "python",
   "name": "python3"
  },
  "language_info": {
   "codemirror_mode": {
    "name": "ipython",
    "version": 3
   },
   "file_extension": ".py",
   "mimetype": "text/x-python",
   "name": "python",
   "nbconvert_exporter": "python",
   "pygments_lexer": "ipython3",
   "version": "3.9.1"
  }
 },
 "nbformat": 4,
 "nbformat_minor": 4
}
