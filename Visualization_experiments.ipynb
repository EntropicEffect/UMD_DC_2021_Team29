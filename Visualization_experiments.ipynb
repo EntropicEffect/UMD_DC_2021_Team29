{
 "cells": [
  {
   "cell_type": "code",
   "execution_count": 1,
   "metadata": {},
   "outputs": [],
   "source": [
    "import math\n",
    "import arcgis\n",
    "import matplotlib.pyplot as plt\n",
    "from arcgis.gis import GIS\n",
    "import pickle\n",
    "from arcgis.geometry import Polygon\n",
    "from arcgis.mapping import create_symbol\n",
    "\n"
   ]
  },
  {
   "cell_type": "code",
   "execution_count": 8,
   "metadata": {},
   "outputs": [],
   "source": [
    "def latlon2wkt(lat,long) :\n",
    "    ## Converts lat/lon into x\n",
    "    ## Courtesy of: https://github.com/jyannielli\n",
    "    half_circ = 20037508.34\n",
    "    x = long * half_circ /180\n",
    "    y = math.log(math.tan((90 + lat) * math.pi / 360)) / (math.pi / 180)\n",
    "    y = y * half_circ / 180\n",
    "    return [x,y]"
   ]
  },
  {
   "cell_type": "code",
   "execution_count": 3,
   "metadata": {},
   "outputs": [],
   "source": [
    "with open('cpk_boundary.pickle', 'rb') as handle:\n",
    "    umd_bdry = pickle.load(handle)"
   ]
  },
  {
   "cell_type": "code",
   "execution_count": 7,
   "metadata": {},
   "outputs": [
    {
     "data": {
      "application/vnd.jupyter.widget-view+json": {
       "model_id": "24e728262e6c4b59980b60fad1bbe14e",
       "version_major": 2,
       "version_minor": 0
      },
      "text/plain": [
       "MapView(layout=Layout(height='400px', width='100%'))"
      ]
     },
     "metadata": {},
     "output_type": "display_data"
    },
    {
     "data": {
      "text/html": [
       "<div class=\"map-static-img-preview-c92bb10b-f6f6-4f12-b5c5-05f8571b5d8a\"><img src=\"\"></img></div>"
      ],
      "text/plain": [
       "<IPython.core.display.HTML object>"
      ]
     },
     "metadata": {},
     "output_type": "display_data"
    },
    {
     "data": {
      "text/html": [
       "<div class=\"map-html-embed-preview-c92bb10b-f6f6-4f12-b5c5-05f8571b5d8a\"></div>"
      ],
      "text/plain": [
       "<IPython.core.display.HTML object>"
      ]
     },
     "metadata": {},
     "output_type": "display_data"
    }
   ],
   "source": [
    "gis = GIS()\n",
    "m1 = gis.map(\"College Park\",zoomlevel=13)\n",
    "length = len(umd_bdry.points)\n",
    "bdry = []\n",
    "for i in range(length):\n",
    "    point1 = umd_bdry.points[i]\n",
    "    if i == length-1:\n",
    "        point2 = umd_bdry.points[0]\n",
    "    else:\n",
    "        point2 = umd_bdry.points[i+1]\n",
    "    bdry.append(latlon2wkt(point1.lat,point1.long))\n",
    "bdry = [bdry]\n",
    "line = {\"rings\" : bdry, \"spatialReference\" : {\"latestWkid\" : 3857}}\n",
    "bdry_line = Polygon(line)\n",
    "symbol = create_symbol(geometry_type='polygon')\n",
    "m1.draw(bdry_line)\n",
    "m1"
   ]
  }
 ],
 "metadata": {
  "kernelspec": {
   "display_name": "Python 3",
   "language": "python",
   "name": "python3"
  },
  "language_info": {
   "codemirror_mode": {
    "name": "ipython",
    "version": 3
   },
   "file_extension": ".py",
   "mimetype": "text/x-python",
   "name": "python",
   "nbconvert_exporter": "python",
   "pygments_lexer": "ipython3",
   "version": "3.9.1"
  }
 },
 "nbformat": 4,
 "nbformat_minor": 4
}
