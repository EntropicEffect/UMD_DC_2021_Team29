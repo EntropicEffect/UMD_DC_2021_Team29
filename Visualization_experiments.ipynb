{
 "cells": [
  {
   "cell_type": "code",
   "execution_count": 4,
   "metadata": {},
   "outputs": [],
   "source": [
    "import math\n",
    "import arcgis\n",
    "import matplotlib.pyplot as plt\n",
    "from arcgis.gis import GIS\n",
    "import pickle\n",
    "from arcgis.geometry import Polygon"
   ]
  },
  {
   "cell_type": "code",
   "execution_count": 5,
   "metadata": {},
   "outputs": [],
   "source": [
    "def latlon2wkt(lat,long) :\n",
    "    ## Converts lat/lon into x,y (WKT format) for plotting\n",
    "    ## Courtesy of: https://github.com/jyannielli\n",
    "    half_circ = 20037508.34\n",
    "    x = long * half_circ /180\n",
    "    y = math.log(math.tan((90 + lat) * math.pi / 360)) / (math.pi / 180)\n",
    "    y = y * half_circ / 180\n",
    "    return [x,y]"
   ]
  },
  {
   "cell_type": "code",
   "execution_count": 18,
   "metadata": {},
   "outputs": [],
   "source": [
    "with open('cz_5_boundary.pickle', 'rb') as handle:\n",
    "    umd_bdry = pickle.load(handle)"
   ]
  },
  {
   "cell_type": "code",
   "execution_count": 19,
   "metadata": {},
   "outputs": [
    {
     "data": {
      "application/vnd.jupyter.widget-view+json": {
       "model_id": "8dcd4ee28813484592cef4455d623bab",
       "version_major": 2,
       "version_minor": 0
      },
      "text/plain": [
       "MapView(layout=Layout(height='400px', width='100%'))"
      ]
     },
     "metadata": {},
     "output_type": "display_data"
    },
    {
     "data": {
      "text/html": [
       "<div class=\"map-static-img-preview-f886b949-7432-4d3e-993f-ffa9f784aa0d\"><img src=\"\"></img></div>"
      ],
      "text/plain": [
       "<IPython.core.display.HTML object>"
      ]
     },
     "metadata": {},
     "output_type": "display_data"
    },
    {
     "data": {
      "text/html": [
       "<div class=\"map-html-embed-preview-f886b949-7432-4d3e-993f-ffa9f784aa0d\"></div>"
      ],
      "text/plain": [
       "<IPython.core.display.HTML object>"
      ]
     },
     "metadata": {},
     "output_type": "display_data"
    }
   ],
   "source": [
    "gis = GIS()\n",
    "m1 = gis.map(\"College Park\",zoomlevel=13)\n",
    "bdry = []\n",
    "for point in umd_bdry.points:\n",
    "    bdry.append(latlon2wkt(point.lat,point.long))\n",
    "bdry = [bdry]\n",
    "line = {\"rings\" : bdry, \"spatialReference\" : {\"latestWkid\" : 3857}}\n",
    "bdry_line = Polygon(line)\n",
    "m1.draw(bdry_line)\n",
    "m1"
   ]
  },
  {
   "cell_type": "code",
   "execution_count": null,
   "metadata": {},
   "outputs": [],
   "source": []
  }
 ],
 "metadata": {
  "kernelspec": {
   "display_name": "Python 3",
   "language": "python",
   "name": "python3"
  },
  "language_info": {
   "codemirror_mode": {
    "name": "ipython",
    "version": 3
   },
   "file_extension": ".py",
   "mimetype": "text/x-python",
   "name": "python",
   "nbconvert_exporter": "python",
   "pygments_lexer": "ipython3",
   "version": "3.9.2"
  }
 },
 "nbformat": 4,
 "nbformat_minor": 4
}
