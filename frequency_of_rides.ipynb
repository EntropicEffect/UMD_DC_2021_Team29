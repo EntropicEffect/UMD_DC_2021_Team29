{
 "metadata": {
  "language_info": {
   "codemirror_mode": {
    "name": "ipython",
    "version": 3
   },
   "file_extension": ".py",
   "mimetype": "text/x-python",
   "name": "python",
   "nbconvert_exporter": "python",
   "pygments_lexer": "ipython3",
   "version": "3.9.1-final"
  },
  "orig_nbformat": 2,
  "kernelspec": {
   "name": "python3",
   "display_name": "Python 3.9.1 64-bit",
   "metadata": {
    "interpreter": {
     "hash": "63fd5069d213b44bf678585dea6b12cceca9941eaf7f819626cde1f2670de90d"
    }
   }
  }
 },
 "nbformat": 4,
 "nbformat_minor": 2,
 "cells": [
  {
   "cell_type": "code",
   "execution_count": 3,
   "metadata": {},
   "outputs": [
    {
     "output_type": "execute_result",
     "data": {
      "text/plain": [
       "   Unnamed: 0  Unnamed: 0.1                    CREATED  \\\n",
       "0           0             0  2020-10-03 03:32:15+00:00   \n",
       "1           1             1  2020-10-03 03:07:39+00:00   \n",
       "2           2             2  2020-10-03 03:17:05+00:00   \n",
       "3           3             3  2020-10-03 02:24:58+00:00   \n",
       "4           4             4  2020-10-03 03:19:34+00:00   \n",
       "\n",
       "                       START                        END  DISTANCE  RIDE_ID  \\\n",
       "0  2020-10-03 03:32:15+00:00  2020-10-03 03:32:46+00:00     0.008  3135665   \n",
       "1  2020-10-03 03:07:39+00:00  2020-10-03 03:37:06+00:00     1.062  3135395   \n",
       "2  2020-10-03 03:17:05+00:00  2020-10-03 03:24:24+00:00     0.847  3135503   \n",
       "3  2020-10-03 02:24:58+00:00  2020-10-03 03:11:56+00:00     3.447  3134955   \n",
       "4  2020-10-03 03:19:34+00:00  2020-10-03 03:22:45+00:00     0.386  3135529   \n",
       "\n",
       "   CUSTOMER_ID  MINUTES VEHICLE_TYPE  \\\n",
       "0       193964        1      Scooter   \n",
       "1       542947       30      Scooter   \n",
       "2       517321        8      Scooter   \n",
       "3       578051       47      Scooter   \n",
       "4       552305        4      Scooter   \n",
       "\n",
       "                                                PATH  \\\n",
       "0  {\\n  \"coordinates\": [\\n    [\\n      -76.934163...   \n",
       "1  {\\n  \"coordinates\": [\\n    [\\n      -76.938180...   \n",
       "2  {\\n  \"coordinates\": [\\n    [\\n      -76.937599...   \n",
       "3  {\\n  \"coordinates\": [\\n    [\\n      -76.943553...   \n",
       "4  {\\n  \"coordinates\": [\\n    [\\n      -76.938115...   \n",
       "\n",
       "                                          TIMESTAMPS  START LONG  START LAT  \\\n",
       "0  [\\n  \"2020-10-03T03:32:14Z\",\\n  \"2020-10-03T03...  -76.934163  38.990656   \n",
       "1  [\\n  \"2020-10-03T03:07:46Z\",\\n  \"2020-10-03T03...  -76.938181  38.982087   \n",
       "2  [\\n  \"2020-10-03T03:17:12Z\",\\n  \"2020-10-03T03...  -76.937600  38.979613   \n",
       "3  [\\n  \"2020-10-03T02:25:04Z\",\\n  \"2020-10-03T02...  -76.943553  38.982470   \n",
       "4  [\\n  \"2020-10-03T03:19:40Z\",\\n  \"2020-10-03T03...  -76.938116  38.982084   \n",
       "\n",
       "    END LONG    END LAT  \n",
       "0 -76.934285  38.990739  \n",
       "1 -76.949165  38.992849  \n",
       "2 -76.933335  38.992676  \n",
       "3 -76.943546  38.982476  \n",
       "4 -76.943257  38.986101  "
      ],
      "text/html": "<div>\n<style scoped>\n    .dataframe tbody tr th:only-of-type {\n        vertical-align: middle;\n    }\n\n    .dataframe tbody tr th {\n        vertical-align: top;\n    }\n\n    .dataframe thead th {\n        text-align: right;\n    }\n</style>\n<table border=\"1\" class=\"dataframe\">\n  <thead>\n    <tr style=\"text-align: right;\">\n      <th></th>\n      <th>Unnamed: 0</th>\n      <th>Unnamed: 0.1</th>\n      <th>CREATED</th>\n      <th>START</th>\n      <th>END</th>\n      <th>DISTANCE</th>\n      <th>RIDE_ID</th>\n      <th>CUSTOMER_ID</th>\n      <th>MINUTES</th>\n      <th>VEHICLE_TYPE</th>\n      <th>PATH</th>\n      <th>TIMESTAMPS</th>\n      <th>START LONG</th>\n      <th>START LAT</th>\n      <th>END LONG</th>\n      <th>END LAT</th>\n    </tr>\n  </thead>\n  <tbody>\n    <tr>\n      <th>0</th>\n      <td>0</td>\n      <td>0</td>\n      <td>2020-10-03 03:32:15+00:00</td>\n      <td>2020-10-03 03:32:15+00:00</td>\n      <td>2020-10-03 03:32:46+00:00</td>\n      <td>0.008</td>\n      <td>3135665</td>\n      <td>193964</td>\n      <td>1</td>\n      <td>Scooter</td>\n      <td>{\\n  \"coordinates\": [\\n    [\\n      -76.934163...</td>\n      <td>[\\n  \"2020-10-03T03:32:14Z\",\\n  \"2020-10-03T03...</td>\n      <td>-76.934163</td>\n      <td>38.990656</td>\n      <td>-76.934285</td>\n      <td>38.990739</td>\n    </tr>\n    <tr>\n      <th>1</th>\n      <td>1</td>\n      <td>1</td>\n      <td>2020-10-03 03:07:39+00:00</td>\n      <td>2020-10-03 03:07:39+00:00</td>\n      <td>2020-10-03 03:37:06+00:00</td>\n      <td>1.062</td>\n      <td>3135395</td>\n      <td>542947</td>\n      <td>30</td>\n      <td>Scooter</td>\n      <td>{\\n  \"coordinates\": [\\n    [\\n      -76.938180...</td>\n      <td>[\\n  \"2020-10-03T03:07:46Z\",\\n  \"2020-10-03T03...</td>\n      <td>-76.938181</td>\n      <td>38.982087</td>\n      <td>-76.949165</td>\n      <td>38.992849</td>\n    </tr>\n    <tr>\n      <th>2</th>\n      <td>2</td>\n      <td>2</td>\n      <td>2020-10-03 03:17:05+00:00</td>\n      <td>2020-10-03 03:17:05+00:00</td>\n      <td>2020-10-03 03:24:24+00:00</td>\n      <td>0.847</td>\n      <td>3135503</td>\n      <td>517321</td>\n      <td>8</td>\n      <td>Scooter</td>\n      <td>{\\n  \"coordinates\": [\\n    [\\n      -76.937599...</td>\n      <td>[\\n  \"2020-10-03T03:17:12Z\",\\n  \"2020-10-03T03...</td>\n      <td>-76.937600</td>\n      <td>38.979613</td>\n      <td>-76.933335</td>\n      <td>38.992676</td>\n    </tr>\n    <tr>\n      <th>3</th>\n      <td>3</td>\n      <td>3</td>\n      <td>2020-10-03 02:24:58+00:00</td>\n      <td>2020-10-03 02:24:58+00:00</td>\n      <td>2020-10-03 03:11:56+00:00</td>\n      <td>3.447</td>\n      <td>3134955</td>\n      <td>578051</td>\n      <td>47</td>\n      <td>Scooter</td>\n      <td>{\\n  \"coordinates\": [\\n    [\\n      -76.943553...</td>\n      <td>[\\n  \"2020-10-03T02:25:04Z\",\\n  \"2020-10-03T02...</td>\n      <td>-76.943553</td>\n      <td>38.982470</td>\n      <td>-76.943546</td>\n      <td>38.982476</td>\n    </tr>\n    <tr>\n      <th>4</th>\n      <td>4</td>\n      <td>4</td>\n      <td>2020-10-03 03:19:34+00:00</td>\n      <td>2020-10-03 03:19:34+00:00</td>\n      <td>2020-10-03 03:22:45+00:00</td>\n      <td>0.386</td>\n      <td>3135529</td>\n      <td>552305</td>\n      <td>4</td>\n      <td>Scooter</td>\n      <td>{\\n  \"coordinates\": [\\n    [\\n      -76.938115...</td>\n      <td>[\\n  \"2020-10-03T03:19:40Z\",\\n  \"2020-10-03T03...</td>\n      <td>-76.938116</td>\n      <td>38.982084</td>\n      <td>-76.943257</td>\n      <td>38.986101</td>\n    </tr>\n  </tbody>\n</table>\n</div>"
     },
     "metadata": {},
     "execution_count": 3
    }
   ],
   "source": [
    "import pandas as pd\n",
    "df = pd.read_csv('scooters.csv')\n",
    "df.head()"
   ]
  },
  {
   "cell_type": "code",
   "execution_count": 26,
   "metadata": {
    "tags": []
   },
   "outputs": [
    {
     "output_type": "execute_result",
     "data": {
      "text/plain": [
       "72"
      ]
     },
     "metadata": {},
     "execution_count": 26
    }
   ],
   "source": [
    "freq = dict()\n",
    "for ride in df['CUSTOMER_ID']:\n",
    "    if ride not in freq:\n",
    "        freq[ride] = 1\n",
    "    else:\n",
    "        freq[ride] += 1\n",
    "\n",
    "len(sorted(set(freq.values())))\n",
    "# Range is 1 - 100\n",
    "    # Maybe have 5, 10, 25, 50, 100 ?\n",
    "    # 72 unique values in range\n",
    "\n",
    "# import numpy as np\n",
    "# x = np.arange(len(freq))\n",
    "# y = list(freq.values())\n",
    "\n",
    "# import matplotlib.pyplot as plt\n",
    "# plt.plot(x, y)"
   ]
  },
  {
   "cell_type": "code",
   "execution_count": null,
   "metadata": {},
   "outputs": [],
   "source": []
  }
 ]
}